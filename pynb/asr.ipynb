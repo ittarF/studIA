{
 "cells": [
  {
   "cell_type": "code",
   "execution_count": 5,
   "metadata": {},
   "outputs": [],
   "source": [
    "MODEL_ID = \"jonatasgrosman/wav2vec2-large-xlsr-53-italian\"\n",
    "#MODEL_ID = \"dbdmg/wav2vec2-xls-r-1b-italian-robust\" # meh\n",
    "MODEL_ID = \"jonatasgrosman/wav2vec2-xls-r-1b-italian\""
   ]
  },
  {
   "cell_type": "code",
   "execution_count": 6,
   "metadata": {},
   "outputs": [
    {
     "data": {
      "text/plain": [
       "[]"
      ]
     },
     "execution_count": 6,
     "metadata": {},
     "output_type": "execute_result"
    }
   ],
   "source": [
    "from transformers import Wav2Vec2Processor\n",
    "import json\n",
    "\n",
    "# Get processor\n",
    "processor = Wav2Vec2Processor.from_pretrained(MODEL_ID)\n",
    "\n",
    "# Save processor config and vocab\n",
    "processor.save_pretrained(\"../app/models/wav2vec2/processor\")\n",
    "# This saves:\n",
    "# - config.json\n",
    "# - tokenizer.json\n",
    "# - special_tokens_map.json\n",
    "# - tokenizer_config.json"
   ]
  },
  {
   "cell_type": "code",
   "execution_count": 7,
   "metadata": {},
   "outputs": [
    {
     "data": {
      "text/plain": [
       "<All keys matched successfully>"
      ]
     },
     "execution_count": 7,
     "metadata": {},
     "output_type": "execute_result"
    }
   ],
   "source": [
    "from transformers import Wav2Vec2ForCTC\n",
    "from safetensors.torch import save_file, load_file\n",
    "\n",
    "# Load model\n",
    "model = Wav2Vec2ForCTC.from_pretrained(MODEL_ID)\n",
    "\n",
    "# Convert state dict to safetensors and save\n",
    "state_dict = model.state_dict()\n",
    "save_file(state_dict, \"../app/models/wav2vec2/wav2vec2.safetensors\")\n",
    "\n",
    "# Load back\n",
    "loaded_state_dict = load_file(\"../app/models/wav2vec2/wav2vec2.safetensors\")\n",
    "model.load_state_dict(loaded_state_dict)"
   ]
  }
 ],
 "metadata": {
  "kernelspec": {
   "display_name": "Python 3",
   "language": "python",
   "name": "python3"
  },
  "language_info": {
   "codemirror_mode": {
    "name": "ipython",
    "version": 3
   },
   "file_extension": ".py",
   "mimetype": "text/x-python",
   "name": "python",
   "nbconvert_exporter": "python",
   "pygments_lexer": "ipython3",
   "version": "3.11.11"
  }
 },
 "nbformat": 4,
 "nbformat_minor": 2
}
